{
 "cells": [
  {
   "cell_type": "code",
   "execution_count": 124,
   "metadata": {},
   "outputs": [
    {
     "name": "stdout",
     "output_type": "stream",
     "text": [
      "['Hassan', 'Kevin', 'Sandeep', 'Vignesh', 'Aaron', 'Ali', 'Ogi', 'Kazim', 'Zeeshan', 'Hassan', 'Sandeep', 'Kevin', 'Kazim', 'Ali', 'Aaron', 'Ogi', 'Zeeshan', 'Vignesh', 'Hassan', 'Kazim', 'Aaron', 'Zeeshan', 'Sandeep', 'Kazim', 'Ogi', 'Vignesh', 'Sandeep', 'Ali', 'Zeeshan', 'Kevin', 'Aaron', 'Vignesh', 'Kazim', 'Hassan', 'Ali', 'Vignesh', 'Kevin', 'Ogi', 'Hassan', 'Aaron', 'Sandeep', 'Ogi', 'Kevin', 'Ali', 'Hassan', 'Ogi', 'Sandeep', 'Aaron', 'Hassan', 'Zeeshan', 'Kazim', 'Vignesh', 'Ali', 'Sandeep', 'Zeeshan', 'Aaron', 'Kevin', 'Vignesh', 'Ogi', 'Ali', 'Kevin', 'Zeeshan', 'Ogi', 'Aaron', 'Kazim', 'Sandeep', 'Hassan', 'Vignesh', 'Zeeshan', 'Ali', 'Kazim', 'Kevin', 'Hassan'] 73\n"
     ]
    }
   ],
   "source": [
    "from __future__ import generators\n",
    "import numpy as np\n",
    "import random\n",
    "\n",
    "\n",
    "def KnuthMorrisPratt(text, pattern):\n",
    "\n",
    "    '''Yields all starting positions of copies of the pattern in the text.\n",
    "Calling conventions are similar to string.find, but its arguments can be\n",
    "lists or iterators, not just strings, it returns all matches, not just\n",
    "the first one, and it does not need the whole text in memory at once.\n",
    "Whenever it yields, it will have read the text exactly up to and including\n",
    "the match that caused the yield.'''\n",
    "\n",
    "    # allow indexing into pattern and protect against change during yield\n",
    "    pattern = list(pattern)\n",
    "\n",
    "    # build table of shift amounts\n",
    "    shifts = [1] * (len(pattern) + 1)\n",
    "    shift = 1\n",
    "    for pos in range(len(pattern)):\n",
    "        while shift <= pos and pattern[pos] != pattern[pos-shift]:\n",
    "            shift += shifts[pos-shift]\n",
    "        shifts[pos+1] = shift\n",
    "\n",
    "    # do the actual search\n",
    "    startPos = 0\n",
    "    matchLen = 0\n",
    "    for c in text:\n",
    "        while matchLen == len(pattern) or \\\n",
    "              matchLen >= 0 and pattern[matchLen] != c:\n",
    "            startPos += shifts[matchLen]\n",
    "            matchLen -= shifts[matchLen]\n",
    "        matchLen += 1\n",
    "        if matchLen == len(pattern):\n",
    "            yield startPos\n",
    "            \n",
    "names = [\"Hassan\",\"Sandeep\",\"Kevin\",\"Kazim\",\"Ali\",\"Aaron\", \"Ogi\", \"Zeeshan\", \"Vignesh\"]\n",
    "max_size = 0\n",
    "final_order = []\n",
    "for _ in range(10):\n",
    "    order = [\"Hassan\"] + random.sample(names[1:],len(names)-1)\n",
    "    for __ in range(100):\n",
    "        for i in range(len(names)):\n",
    "            s = 0\n",
    "            k = 0\n",
    "            for s in KnuthMorrisPratt(order, [order[-1],names[i]]): s=1\n",
    "            if order[-1] != names[i] and order[-2] != names[i] and order[-3] != names[i]: #and order[-4] != names[i]:\n",
    "                if s != 1 and k != 1:\n",
    "                    order.append(names[i])\n",
    "    if len(order) > max_size:\n",
    "        max_size = len(order)\n",
    "        final_order = order\n",
    "print(final_order, len(final_order))"
   ]
  },
  {
   "cell_type": "code",
   "execution_count": null,
   "metadata": {},
   "outputs": [],
   "source": []
  }
 ],
 "metadata": {
  "kernelspec": {
   "display_name": "Python 3",
   "language": "python",
   "name": "python3"
  },
  "language_info": {
   "codemirror_mode": {
    "name": "ipython",
    "version": 3
   },
   "file_extension": ".py",
   "mimetype": "text/x-python",
   "name": "python",
   "nbconvert_exporter": "python",
   "pygments_lexer": "ipython3",
   "version": "3.8.5"
  }
 },
 "nbformat": 4,
 "nbformat_minor": 4
}
